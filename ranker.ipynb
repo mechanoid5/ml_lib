{
 "cells": [
  {
   "cell_type": "markdown",
   "id": "dfcff9ac",
   "metadata": {},
   "source": [
    "**задача ранжирования**\n",
    "\n",
    "Евгений Борисов <esborisov@sevsu.ru>"
   ]
  },
  {
   "cell_type": "markdown",
   "id": "e7d0d97d",
   "metadata": {},
   "source": [
    "----"
   ]
  },
  {
   "cell_type": "markdown",
   "id": "5a81e406",
   "metadata": {},
   "source": [
    "**задача ранжирования**\n",
    "\n",
    "$X \\subset \\mathbb{R}^n $ - множество объектов   \n",
    "\n",
    "подмножество $X_\\mathscr{l}=\\{x_1...x_m\\}\\subset X$,\n",
    "на котором задано отношение (частичного?) порядка\n",
    "\n",
    "__задача__:  построить отображение $a(x) : X_\\mathscr{l} \\rightarrow \\mathbb{R}$  такое, что\n",
    "для $i<j \\Rightarrow a(x_i)<a(x_j)$"
   ]
  },
  {
   "cell_type": "markdown",
   "id": "1c84753a",
   "metadata": {},
   "source": [
    "__способы решения задачи ранжирования__\n",
    "\n",
    "- _point-wise / поточечно_, строим функционал по каждому объекту отдельно;    \n",
    "    сводится к задаче классификации/регрессии,  \n",
    "    для каждого объекта задаём значение ранга и обучаем модель определять ранг объекта   \n",
    "\n",
    "\n",
    "- _pair-wise / попарно_, строим функционал с парами объектов;    \n",
    "    строим датасет упорядоченных пар и обучаем модель определять кто в паре первый\n",
    "\n",
    "\n",
    "- _list-wise / списком_, оцениваем сразу список объектов и отношения на них;   \n",
    "    на датасете задано отношение порядка, обучаем модель воспроизводить порядок "
   ]
  },
  {
   "cell_type": "markdown",
   "id": "d509f81e",
   "metadata": {},
   "source": [
    "__модели парного ранжирования (pair-wise)__\n",
    "\n",
    "поределим понятие отступа как разницу скоров двух объектов:\n",
    "\n",
    "$$M_{ij} = a(x_j) - a(x_i)$$\n",
    "\n",
    "условие паного ранжирования это положительный отступ, т.е. $ M_{ij}>0 $ для $i<j$\n",
    "\n",
    "приходим к задаче оптимизации - минимизировать количество отрицательных отступов\n",
    "\n",
    "$$Q(a) = \\sum\\limits_{i<j} \\left[ M_{ij} < 0  \\right] \\rightarrow \\min $$\n",
    "\n",
    "\n",
    "для использования градиентных методов перейдём к гладкому функционалу качества\n",
    "\n",
    "$$Q(a) = \\sum\\limits_{i<j} \\left[ M_{ij} < 0  \\right] \\leq \\sum\\limits_{i<j} \\mathscr{L} \\left( M_{ij} \\right) \\rightarrow \\min $$\n",
    "\n",
    "где  \n",
    "$a(x)$ - алгоритм ранжирования  \n",
    "$\\mathscr{L}(M)$ - убывающая непрерывная функция отступа  "
   ]
  },
  {
   "cell_type": "markdown",
   "id": "cf5f81ec",
   "metadata": {},
   "source": [
    "переход к гладкому функционалу качества ранжирования для оптимизации градиентными методами\n",
    "\n",
    "разные варианты замены $Q(M)$ на гладкий функционал $\\mathscr{L}(M)\\geq Q(M) $\n",
    "\n",
    "RankSVM:\n",
    "$$\\mathscr{L}(M) = \\left(1-M\\right)_+$$\n",
    "\n",
    "RankBoost: \n",
    "$$\\mathscr{L}(M) = \\exp(-M)$$\n",
    "\n",
    "RankNet:\n",
    "$$\\mathscr{L}(M) = \\log\\left(1+\\exp(-\\sigma M) \\right)$$"
   ]
  },
  {
   "cell_type": "markdown",
   "id": "f7a144e0",
   "metadata": {},
   "source": [
    "**rankNet**\n",
    "\n",
    "$a(x)=<w,x>$ линейная модель\n",
    "\n",
    "$\\mathscr{L}(M) = \\log(1+\\exp(-\\sigma M) )$ гладкая апроксимация функционала качества\n",
    "\n",
    "$\\sigma$ - параметр"
   ]
  },
  {
   "cell_type": "markdown",
   "id": "ff76e285",
   "metadata": {},
   "source": [
    "<span style='font-size:8pt;'>\n",
    "Cristopher J.C. Burges, Tal Shaked, Erin Renshaw, Ari Lazier, Matt Deeds, Nicole Hamilton, Gregory N. Hullender. \n",
    "Learning to rank using gradient descent.   \n",
    "In Proceedings of ICML’2005.\n",
    "<a href='https://icml.cc/2015/wp-content/uploads/2015/06/icml_ranking.pdf'>\n",
    "https://icml.cc/2015/wp-content/uploads/2015/06/icml_ranking.pdf    \n",
    "</a>\n",
    "</span>"
   ]
  },
  {
   "cell_type": "markdown",
   "id": "78115994",
   "metadata": {},
   "source": [
    "$$\\mathscr{L}(M) = \\log(1+\\exp(-\\sigma M) )\n",
    "= \\log\\left(\n",
    "1+\\exp\\left(-\\sigma \\left( a(x_i,w)- a(x_j,w) \\right) \\right) \n",
    "\\right)$$"
   ]
  },
  {
   "cell_type": "markdown",
   "id": "393a2561",
   "metadata": {},
   "source": [
    "$$\n",
    "\\frac{\\partial \\mathscr{L}}{\\partial w} = \n",
    "\\frac{1}{\n",
    "1+\\exp\\left(-\\sigma \\left( a(x_i,w)- a(x_j,w) \\right) \\right) \n",
    "}\\cdot\n",
    "\\exp\\left(-\\sigma \\left( a(x_i,w)- a(x_j,w) \\right) \\right) \n",
    "\\cdot -\\sigma\n",
    "\\cdot \\left( \\frac{\\partial a(x_i,w)}{\\partial w} - \\frac{\\partial a(x_j,w)}{\\partial w} \\right) \n",
    "= \\cdots\n",
    "$$"
   ]
  },
  {
   "cell_type": "markdown",
   "id": "34a26eb1",
   "metadata": {},
   "source": [
    "$$\n",
    "\\cdots = \n",
    "\\frac{\n",
    "-\\sigma\n",
    "\\cdot\n",
    "\\exp\\left(-\\sigma \\left( a(x_i,w)- a(x_j,w) \\right) \\right) \n",
    "}{\n",
    "1+\\exp\\left(-\\sigma \\left( a(x_i,w)- a(x_j,w) \\right) \\right) \n",
    "}\n",
    "\\cdot \\left( \\frac{\\partial a(x_i,w)}{\\partial w} - \\frac{\\partial a(x_j,w)}{\\partial w} \\right) \n",
    "$$"
   ]
  },
  {
   "cell_type": "markdown",
   "id": "dcc461f8",
   "metadata": {},
   "source": [
    "$$\n",
    "\\cdots = \n",
    "\\frac{\n",
    "-\\sigma\n",
    "}{\n",
    "1+\\exp\\left( \\sigma \\left( a(x_i,w)- a(x_j,w) \\right) \\right) \n",
    "}\n",
    "\\cdot \\left( \\frac{\\partial a(x_i,w)}{\\partial w} - \\frac{\\partial a(x_j,w)}{\\partial w} \\right) \n",
    "$$"
   ]
  },
  {
   "cell_type": "markdown",
   "id": "f3eacfd7",
   "metadata": {},
   "source": [
    "---"
   ]
  },
  {
   "cell_type": "code",
   "execution_count": 1,
   "id": "5032826a",
   "metadata": {},
   "outputs": [],
   "source": [
    "# from lib.optimizer.gd import SGD"
   ]
  },
  {
   "cell_type": "code",
   "execution_count": 2,
   "id": "4e304944",
   "metadata": {},
   "outputs": [
    {
     "data": {
      "image/png": "[encoded data removed]",
      "text/plain": [
       "<Figure size 432x288 with 1 Axes>"
      ]
     },
     "metadata": {
      "needs_background": "light"
     },
     "output_type": "display_data"
    }
   ],
   "source": [
    "# logistic loss\n",
    "import numpy as np\n",
    "import matplotlib.pyplot as plt\n",
    "s = 1.95\n",
    "m = np.linspace(-5,5,100)\n",
    "loss = lambda x,s: np.log(1.+np.exp(-s*x))\n",
    "plt.plot(m,loss(m,s))\n",
    "plt.grid()"
   ]
  },
  {
   "cell_type": "code",
   "execution_count": 3,
   "id": "d59fe2fb",
   "metadata": {},
   "outputs": [],
   "source": [
    "# показывать выдачу всех строк ячейки\n",
    "from IPython.core.interactiveshell import InteractiveShell\n",
    "InteractiveShell.ast_node_interactivity = 'all'"
   ]
  },
  {
   "cell_type": "code",
   "execution_count": 4,
   "id": "7ff2ba02",
   "metadata": {},
   "outputs": [],
   "source": [
    "# import gzip\n",
    "# import pickle\n",
    "\n",
    "import numpy as np\n",
    "import numpy.random as rng\n",
    "# import pandas as pd\n",
    "# import gc\n",
    "from tqdm import tqdm\n",
    "\n",
    "# from sklearn.preprocessing import PolynomialFeatures\n",
    "import matplotlib.pyplot as plt"
   ]
  },
  {
   "cell_type": "code",
   "execution_count": 5,
   "id": "31484124",
   "metadata": {},
   "outputs": [],
   "source": [
    "# tqdm.pandas ()\n",
    "# pd.options.display.float_format = '{:,.2f}'.format"
   ]
  },
  {
   "cell_type": "code",
   "execution_count": 6,
   "id": "327bf0ec",
   "metadata": {},
   "outputs": [
    {
     "data": {
      "text/plain": [
       "((9988, 2), (10000, 2))"
      ]
     },
     "execution_count": 6,
     "metadata": {},
     "output_type": "execute_result"
    }
   ],
   "source": [
    "# модельный датасет для парного ранжирования\n",
    "n_samples = 10_000 # количество объектов\n",
    "X = rng.rand(n_samples,2) # признаки объектов\n",
    "# задаём парное отношение порядка\n",
    "pair = np.array(list({  # уникальные пары с точностью до перестановки\n",
    "        tuple(set([i,j])):[i,j] \n",
    "        for i,j in zip(rng.permutation(n_samples),rng.permutation(n_samples)) \n",
    "        if i!=j \n",
    "    }.values()))\n",
    "\n",
    "pair = pair[7:]\n",
    "pair.shape, X.shape"
   ]
  },
  {
   "cell_type": "markdown",
   "id": "23106fab",
   "metadata": {},
   "source": [
    "---"
   ]
  },
  {
   "cell_type": "code",
   "execution_count": 7,
   "id": "b0fa4406",
   "metadata": {},
   "outputs": [
    {
     "data": {
      "text/plain": [
       "(2, 1)"
      ]
     },
     "execution_count": 7,
     "metadata": {},
     "output_type": "execute_result"
    }
   ],
   "source": [
    "from lib.model.linear import LinearModel\n",
    "from lib.initiator.linear import UniformInitiatorLinearModel\n",
    "\n",
    "model = LinearModel(\n",
    "    initiator=UniformInitiatorLinearModel(\n",
    "        input_size=X.shape[1],\n",
    "        output_size=1,\n",
    "    )\n",
    ")\n",
    "\n",
    "model.weight.shape"
   ]
  },
  {
   "cell_type": "code",
   "execution_count": 8,
   "id": "d29d42bc",
   "metadata": {},
   "outputs": [],
   "source": [
    "# from lib.loss.logistic import LogisticLoss\n",
    "# loss_ = LogisticLoss(model)\n",
    "\n",
    "# y = rng.normal(size=model.score(X).shape)\n",
    "# loss_.estimate(X,y)\n",
    "# loss_.gradient(X,y)"
   ]
  },
  {
   "cell_type": "code",
   "execution_count": 9,
   "id": "ae7b0cf0",
   "metadata": {},
   "outputs": [],
   "source": [
    "# from lib.loss.ranker import PairRankerLogisticLoss\n",
    "# loss = PairRankerLogisticLoss(model)"
   ]
  },
  {
   "cell_type": "markdown",
   "id": "208f15da",
   "metadata": {},
   "source": [
    "http://fa.bianp.net/blog/2012/learning-to-rank-with-scikit-learn-the-pairwise-transform/\n",
    "\n",
    "http://www.mendeley.com/research/support-vector-learning-ordinal-regression/\n",
    "\n",
    "The pairwise transform   \n",
    "\n",
    "As proved in (Herbrich 1999), if we consider linear ranking functions, the ranking problem can be transformed into a two-class classification problem. For this, we form the difference of all comparable elements such that our data is transformed into  $$(x′_k,y′_k)=(x_i−x_j,sign(y_i−y_j)$$"
   ]
  },
  {
   "cell_type": "code",
   "execution_count": 28,
   "id": "192d0b30",
   "metadata": {},
   "outputs": [],
   "source": [
    "# from lib.loss.base import Loss\n",
    "\n",
    "class PairwiseTransform:\n",
    "    \n",
    "    def __init__(self,loss):\n",
    "        self._loss = loss\n",
    "        self._history = []\n",
    "   \n",
    "    def estimate(self,data,pair):\n",
    "        first,second = pair[:,0],pair[:,1]\n",
    "        score = np.sign( self._loss.model.score(data[first,:]) - self._loss.model.score(data[second,:]) )\n",
    "        s = self._loss._estimate( output=score, target=np.ones(score.shape)) \n",
    "        self._history.append(s)\n",
    "        return s\n",
    "\n",
    "    def gradient(self,data,pair):\n",
    "        first,second = pair[:,0],pair[:,1]\n",
    "        xdiff = data[first,:] - data[second,:]\n",
    "        return self._loss.gradient( input_data=xdiff, target=np.ones((len(xdiff),1))  )\n",
    "\n",
    "    @property\n",
    "    def model(self): \n",
    "        return self._loss.model\n",
    "\n",
    "    @property\n",
    "    def history(self): \n",
    "        return self._history\n",
    "\n",
    "\n",
    "from lib.loss.logistic import LogisticLoss\n",
    "# from lib.loss.ranker_ import PairRankerLoss\n",
    "\n",
    "loss = PairwiseTransform(LogisticLoss(model,sigma=.95))"
   ]
  },
  {
   "cell_type": "code",
   "execution_count": 29,
   "id": "2e838888",
   "metadata": {},
   "outputs": [
    {
     "data": {
      "text/plain": [
       "(10000, 1)"
      ]
     },
     "execution_count": 29,
     "metadata": {},
     "output_type": "execute_result"
    }
   ],
   "source": [
    "model.score(X).shape"
   ]
  },
  {
   "cell_type": "code",
   "execution_count": 30,
   "id": "e5bc35e8",
   "metadata": {},
   "outputs": [
    {
     "data": {
      "text/plain": [
       "0.41615608427482165"
      ]
     },
     "execution_count": 30,
     "metadata": {},
     "output_type": "execute_result"
    }
   ],
   "source": [
    "loss.estimate(X,pair)"
   ]
  },
  {
   "cell_type": "code",
   "execution_count": 31,
   "id": "faa7d572",
   "metadata": {},
   "outputs": [
    {
     "data": {
      "text/plain": [
       "array([[-0.99937064],\n",
       "       [-1.        ]])"
      ]
     },
     "execution_count": 31,
     "metadata": {},
     "output_type": "execute_result"
    }
   ],
   "source": [
    "loss.gradient(X,pair)"
   ]
  },
  {
   "cell_type": "code",
   "execution_count": 32,
   "id": "f676edc6",
   "metadata": {},
   "outputs": [],
   "source": [
    "#from lib.optimizer.lrate import FactorLRA\n",
    "# lra =  FactorLRA(value=.01,bound=.001,factor=.9)\n",
    "\n",
    "from lib.optimizer.lrate import ConstLRA\n",
    "lra=ConstLRA(.01)"
   ]
  },
  {
   "cell_type": "code",
   "execution_count": 33,
   "id": "608c9080",
   "metadata": {},
   "outputs": [
    {
     "name": "stderr",
     "output_type": "stream",
     "text": [
      " 22%|██▎       | 27/120 [00:00<00:00, 239.72it/s, loss=0.416, lr=0.01]\n"
     ]
    }
   ],
   "source": [
    "from lib.optimizer.gd import GD\n",
    "from lib.optimizer.breaker import GrowthBreaking # прерывание при росте ф-ции потери\n",
    "\n",
    "model = GD(\n",
    "    loss=loss,\n",
    "    lra=lra,\n",
    "    breaker=[GrowthBreaking(),]\n",
    ").fit(\n",
    "    [X,pair],\n",
    "    n_epoch=120,\n",
    ")"
   ]
  },
  {
   "cell_type": "code",
   "execution_count": 34,
   "id": "ad62842f",
   "metadata": {},
   "outputs": [
    {
     "data": {
      "text/plain": [
       "[<matplotlib.lines.Line2D at 0x7f3bd4c1f0a0>]"
      ]
     },
     "execution_count": 34,
     "metadata": {},
     "output_type": "execute_result"
    },
    {
     "data": {
      "image/png": "[encoded data removed]",
      "text/plain": [
       "<Figure size 432x288 with 1 Axes>"
      ]
     },
     "metadata": {
      "needs_background": "light"
     },
     "output_type": "display_data"
    }
   ],
   "source": [
    "plt.plot(loss.history)\n",
    "plt.grid()"
   ]
  },
  {
   "cell_type": "markdown",
   "id": "67e65849",
   "metadata": {},
   "source": [
    "---"
   ]
  },
  {
   "cell_type": "code",
   "execution_count": 27,
   "id": "5fa4a9d7",
   "metadata": {},
   "outputs": [],
   "source": [
    "# from sklearn.metrics import ndcg_score\n",
    "# from scipy.stats import spearmanr\n",
    "# from scipy.stats import kendalltau\n",
    "\n",
    "# def estimate(X,p):\n",
    "#     p_[pair[:,0]], p_[pair[:,1]]\n",
    "    \n",
    "#     return [ # метрики ранжирования\n",
    "#             # Normalized Discounted Commulative Gain (nDCG@K)    \n",
    "#             ndcg_score( score_t[np.newaxis,:], score_r[np.newaxis,:],),\n",
    "#             # коэффициент ранговой корреляции Спирмана\n",
    "#             spearmanr( score_t, score_r, )[0],\n",
    "#             # коэффициент ранговой корреляции tau Кендалла\n",
    "#             kendalltau( score_t, score_r, )[0],\n",
    "#         ]"
   ]
  },
  {
   "cell_type": "markdown",
   "id": "eeee1844",
   "metadata": {},
   "source": [
    "---"
   ]
  }
 ],
 "metadata": {
  "kernelspec": {
   "display_name": "Python 3",
   "language": "python",
   "name": "python3"
  },
  "language_info": {
   "codemirror_mode": {
    "name": "ipython",
    "version": 3
   },
   "file_extension": ".py",
   "mimetype": "text/x-python",
   "name": "python",
   "nbconvert_exporter": "python",
   "pygments_lexer": "ipython3",
   "version": "3.8.9"
  },
  "toc": {
   "base_numbering": 1,
   "nav_menu": {},
   "number_sections": true,
   "sideBar": true,
   "skip_h1_title": false,
   "title_cell": "Table of Contents",
   "title_sidebar": "Contents",
   "toc_cell": false,
   "toc_position": {
    "height": "calc(100% - 180px)",
    "left": "10px",
    "top": "150px",
    "width": "288.547px"
   },
   "toc_section_display": true,
   "toc_window_display": false
  }
 },
 "nbformat": 4,
 "nbformat_minor": 5
}
