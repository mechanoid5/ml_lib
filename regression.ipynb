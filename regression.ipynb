{
 "cells": [
  {
   "cell_type": "markdown",
   "id": "dfcff9ac",
   "metadata": {},
   "source": [
    "**базовые модели ML**\n",
    "\n",
    "Евгений Борисов <esborisov@sevsu.ru>"
   ]
  },
  {
   "cell_type": "markdown",
   "id": "e7d0d97d",
   "metadata": {},
   "source": [
    "----"
   ]
  },
  {
   "cell_type": "code",
   "execution_count": 1,
   "id": "d3cbda8a",
   "metadata": {},
   "outputs": [],
   "source": [
    "# # показывать выдачу всех строк ячейки\n",
    "# from IPython.core.interactiveshell import InteractiveShell\n",
    "# InteractiveShell.ast_node_interactivity = 'all'"
   ]
  },
  {
   "cell_type": "code",
   "execution_count": 2,
   "id": "d27b552e",
   "metadata": {},
   "outputs": [],
   "source": [
    "# import gzip\n",
    "# import pickle\n",
    "\n",
    "import numpy as np\n",
    "import numpy.random as rng\n",
    "# import pandas as pd\n",
    "# import gc\n",
    "from tqdm import tqdm\n",
    "\n",
    "# from sklearn.preprocessing import PolynomialFeatures\n",
    "import matplotlib.pyplot as plt"
   ]
  },
  {
   "cell_type": "code",
   "execution_count": 3,
   "id": "82d93322",
   "metadata": {},
   "outputs": [],
   "source": [
    "# tqdm.pandas ()\n",
    "# pd.options.display.float_format = '{:,.2f}'.format"
   ]
  },
  {
   "cell_type": "markdown",
   "id": "1f42545c",
   "metadata": {},
   "source": [
    "## LinearRegression + MSQE + GD"
   ]
  },
  {
   "cell_type": "code",
   "execution_count": 4,
   "id": "902262c4",
   "metadata": {},
   "outputs": [],
   "source": [
    "# from sklearn.datasets import fetch_california_housing\n",
    "# from sklearn.datasets import load_boston\n",
    "from sklearn.datasets import make_regression\n",
    "\n",
    "X_train,y_train = make_regression(n_samples=100,n_features=1,noise=9.1, shuffle=True,)\n",
    "# plt.scatter(x,y)\n",
    "# plt.grid()"
   ]
  },
  {
   "cell_type": "code",
   "execution_count": 5,
   "id": "bb95c82f",
   "metadata": {},
   "outputs": [
    {
     "data": {
      "text/plain": [
       "(1, 1)"
      ]
     },
     "execution_count": 5,
     "metadata": {},
     "output_type": "execute_result"
    }
   ],
   "source": [
    "from lib.initiator.linear import UniformInitiatorLinearModel\n",
    "\n",
    "from lib.model.linear import LinearRegression\n",
    "# LinearModel(initiator)\n",
    "model = LinearRegression(\n",
    "    initiator=UniformInitiatorLinearModel(\n",
    "    # initiator=NormalInitiatorLinearModel(\n",
    "        input_size=X_train.shape[1],\n",
    "    )\n",
    ")\n",
    "\n",
    "model.weight.shape"
   ]
  },
  {
   "cell_type": "code",
   "execution_count": 6,
   "id": "347749ad",
   "metadata": {},
   "outputs": [],
   "source": [
    "from lib.loss.msqe import MSQE\n",
    "loss = MSQE(model)\n",
    "\n",
    "from lib.optimizer.lrate import ConstLRA # скорость обучения - константная\n",
    "lra = ConstLRA(.01)\n",
    "\n",
    "\n",
    "#from lib.optimizer.breaker import EarlyStopping # прерывание при достижении прога значения ф-ции потери\n",
    "# EarlyStopping( bound=None, min_delta=0., max_delta=None, patience=2 )\n",
    "#es = EarlyStopping(bound=1e-2)\n",
    "\n",
    "# from lib.optimizer.regularizator import RegularizationL1 # регуляризация\n",
    "# RegularizationL1(rho)\n",
    "#reg = RegularizationL1(rho=.01)\n",
    "\n",
    "from lib.optimizer.gd import SGD # метод  оптимизации стохастический градиентный спуск \n",
    "# SGD(loss,lra=ConstLRA(.1),breaker=Breaking(),regul=Regularization(1.),momentum=0.)\n",
    "# SGD.fit(data_train,batch_size, data_val=None,n_epoch=2,target_is_indices=False):"
   ]
  },
  {
   "cell_type": "code",
   "execution_count": 7,
   "id": "1eca3bd2",
   "metadata": {},
   "outputs": [
    {
     "name": "stderr",
     "output_type": "stream",
     "text": [
      "  0%|          | 0/15 [00:00<?, ?it/s]\n",
      "ERROR:root:too many indices for array: array is 1-dimensional, but 2 were indexed\n"
     ]
    }
   ],
   "source": [
    "model = SGD(\n",
    "    loss=loss,\n",
    "    lra=lra,\n",
    "    #breaker=es,\n",
    "    #regul=reg,\n",
    "    #momentum=.01,    \n",
    ").fit(\n",
    "    data_train=[X_train,y_train],\n",
    "    # data_val=[X_val,y_val],\n",
    "    n_epoch=15,\n",
    "    batch_size=y_train.shape[0]//10,\n",
    ")"
   ]
  },
  {
   "cell_type": "code",
   "execution_count": null,
   "id": "28b7250a",
   "metadata": {},
   "outputs": [],
   "source": [
    "%xdel model \n",
    "\n",
    "y_ = yr[:,np.newaxis]\n",
    "\n",
    "model = LinearRegression(n_features=Xr.shape[1] )\n",
    "# es=EarlyStopping(min_delta=1e-1,patience=4)\n",
    "# lsh,lrh = SGD(MSQE(model),lra=lra,es=es).fit([Xr,y_],n_epoch=15,batch_size=10)\n",
    "lsh,lrh = GD(MSQE(model),lra=ConstLRA(.9)).fit([Xr,y_],n_epoch=150)"
   ]
  },
  {
   "cell_type": "code",
   "execution_count": null,
   "id": "60f643d7",
   "metadata": {},
   "outputs": [],
   "source": [
    "\n",
    "a = np.linspace(Xr.min(),Xr.max(),100)[:,np.newaxis]\n",
    "p = model.predict(a)\n",
    "\n",
    "fig,(ax0,ax1) = plt.subplots(1,2,figsize=(15,5))\n",
    "ax0.plot(lsh)\n",
    "ax0.grid()\n",
    "\n",
    "ax1.scatter(Xr,yr)\n",
    "ax1.plot(a,p,c='r')\n",
    "ax1.grid()\n"
   ]
  },
  {
   "cell_type": "code",
   "execution_count": null,
   "id": "47fed2c9",
   "metadata": {},
   "outputs": [],
   "source": []
  }
 ],
 "metadata": {
  "kernelspec": {
   "display_name": "Python 3",
   "language": "python",
   "name": "python3"
  },
  "language_info": {
   "codemirror_mode": {
    "name": "ipython",
    "version": 3
   },
   "file_extension": ".py",
   "mimetype": "text/x-python",
   "name": "python",
   "nbconvert_exporter": "python",
   "pygments_lexer": "ipython3",
   "version": "3.8.9"
  },
  "toc": {
   "base_numbering": 1,
   "nav_menu": {},
   "number_sections": true,
   "sideBar": true,
   "skip_h1_title": false,
   "title_cell": "Table of Contents",
   "title_sidebar": "Contents",
   "toc_cell": false,
   "toc_position": {
    "height": "calc(100% - 180px)",
    "left": "10px",
    "top": "150px",
    "width": "288.547px"
   },
   "toc_section_display": true,
   "toc_window_display": false
  }
 },
 "nbformat": 4,
 "nbformat_minor": 5
}
